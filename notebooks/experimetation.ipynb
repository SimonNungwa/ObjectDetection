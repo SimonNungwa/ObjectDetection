{
 "cells": [
  {
   "cell_type": "code",
   "execution_count": null,
   "metadata": {},
   "outputs": [],
   "source": [
    "import cv2\n",
    "import matplotlib.pyplot as plt\n",
    "from src.detect import detect_objects\n",
    "\n",
    "image_path = \"assets/images/test_image.jpg\"\n",
    "model_path = \"models/yolo_v8.pth\"\n",
    "\n",
    "detections = detect_objects(image_path, model_path)\n",
    "\n",
    "# Visualize detections\n",
    "image = cv2.imread(image_path)\n",
    "for det in detections:\n",
    "    cv2.rectangle(image, (det[0], det[1]), (det[2], det[3]), (255, 0, 0), 2)\n",
    "\n",
    "plt.imshow(cv2.cvtColor(image, cv2.COLOR_BGR2RGB))\n",
    "plt.show()\n"
   ]
  }
 ],
 "metadata": {
  "language_info": {
   "name": "python"
  }
 },
 "nbformat": 4,
 "nbformat_minor": 2
}
